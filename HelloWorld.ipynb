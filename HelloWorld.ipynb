{
 "cells": [
  {
   "cell_type": "markdown",
   "id": "9879fe68-314c-4346-bc8c-407cfee646b7",
   "metadata": {},
   "source": [
    "# This is our first code"
   ]
  },
  {
   "cell_type": "code",
   "execution_count": 2,
   "id": "44db9132-1da3-4b64-b418-f9fe1fdf393c",
   "metadata": {},
   "outputs": [
    {
     "name": "stdout",
     "output_type": "stream",
     "text": [
      "Hello World\n"
     ]
    }
   ],
   "source": [
    "print(\"Hello World\")"
   ]
  }
 ],
 "metadata": {
  "kernelspec": {
   "display_name": "Python [conda env:base] *",
   "language": "python",
   "name": "conda-base-py"
  },
  "language_info": {
   "codemirror_mode": {
    "name": "ipython",
    "version": 3
   },
   "file_extension": ".py",
   "mimetype": "text/x-python",
   "name": "python",
   "nbconvert_exporter": "python",
   "pygments_lexer": "ipython3",
   "version": "3.12.7"
  }
 },
 "nbformat": 4,
 "nbformat_minor": 5
}
