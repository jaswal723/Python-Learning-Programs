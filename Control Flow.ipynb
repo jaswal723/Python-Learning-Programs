{
 "cells": [
  {
   "cell_type": "markdown",
   "id": "d93e5ea3-6981-44cf-b703-b21ef7223d82",
   "metadata": {},
   "source": [
    "# Control Flow"
   ]
  },
  {
   "cell_type": "code",
   "execution_count": 1,
   "id": "0de88bad-eab6-4b23-9fbe-e6d423b11c9e",
   "metadata": {},
   "outputs": [
    {
     "name": "stdin",
     "output_type": "stream",
     "text": [
      " 4\n",
      " 7\n"
     ]
    },
    {
     "name": "stdout",
     "output_type": "stream",
     "text": [
      "b is greater than a\n"
     ]
    }
   ],
   "source": [
    "a=int(input())\n",
    "b=int(input())\n",
    "if(a>b):\n",
    "    print(\"a is greater than b\")\n",
    "else:\n",
    "    print(\"b is greater than a\")"
   ]
  },
  {
   "cell_type": "markdown",
   "id": "e740fa22-a3c7-429b-b9db-f41a90f6ccab",
   "metadata": {},
   "source": [
    "# If elif else"
   ]
  },
  {
   "cell_type": "code",
   "execution_count": 4,
   "id": "a288dbb4-41c5-4e62-93f2-956571c368de",
   "metadata": {},
   "outputs": [
    {
     "name": "stdout",
     "output_type": "stream",
     "text": [
      "5\n"
     ]
    }
   ],
   "source": [
    "a=1\n",
    "b=5\n",
    "if a==b:\n",
    "    print(\"Equal\")\n",
    "elif a>b:\n",
    "    print(a)\n",
    "else:\n",
    "    print(b)"
   ]
  },
  {
   "cell_type": "markdown",
   "id": "aff46f58-be81-4a6a-81c9-a1afbc9fca81",
   "metadata": {},
   "source": [
    "# shorthand if elif else"
   ]
  },
  {
   "cell_type": "code",
   "execution_count": 11,
   "id": "f4f2799d-e95f-4494-b1e8-d16e160dba39",
   "metadata": {},
   "outputs": [
    {
     "name": "stdin",
     "output_type": "stream",
     "text": [
      "Enter marks:  77\n"
     ]
    },
    {
     "name": "stdout",
     "output_type": "stream",
     "text": [
      "B Grade\n"
     ]
    }
   ],
   "source": [
    "a=int(input(\"Enter marks: \"))\n",
    "print(\"A Grade\") if a>85 else print(\"B Grade\") if a>70 else print(\"C Grade\")"
   ]
  },
  {
   "cell_type": "markdown",
   "id": "7c97c6b0-2fc8-413e-8a3d-ceb4794fff59",
   "metadata": {},
   "source": [
    "# Nested if"
   ]
  },
  {
   "cell_type": "code",
   "execution_count": 12,
   "id": "cba6b429-4ee3-437f-a879-a3b7c322816e",
   "metadata": {},
   "outputs": [
    {
     "name": "stdin",
     "output_type": "stream",
     "text": [
      "Enter a number:  23\n"
     ]
    },
    {
     "name": "stdout",
     "output_type": "stream",
     "text": [
      "Number is greater than 10\n",
      "Number is greater than 20\n"
     ]
    }
   ],
   "source": [
    "a=int(input(\"Enter a number: \"))\n",
    "if a>10:\n",
    "    print(\"Number is greater than 10\")\n",
    "    if a>20:\n",
    "        print(\"Number is greater than 20\")\n",
    "    else:\n",
    "        print(\"Number is less than 20 but greater than 10\")\n",
    "else:\n",
    "    print(\"Number is less than 10\")"
   ]
  },
  {
   "cell_type": "code",
   "execution_count": 19,
   "id": "f1f31d20-6c03-40cb-91a3-59350ac3e957",
   "metadata": {},
   "outputs": [
    {
     "name": "stdin",
     "output_type": "stream",
     "text": [
      "Enter a decimal number:  123.123\n"
     ]
    },
    {
     "name": "stdout",
     "output_type": "stream",
     "text": [
      "The number is an odd number\n"
     ]
    }
   ],
   "source": [
    "\"\"\"\n",
    "User will enter a floating number. \n",
    "Task is to find out the integer portion of the number before the point, and check if integer is even or not. \n",
    "\"\"\"\n",
    "\n",
    "floating_number=float(input(\"Enter a decimal number: \"))\n",
    "integer_part=int(floating_number)\n",
    "if integer_part%2==0:\n",
    "    print(\"The number is an even number\")\n",
    "else:\n",
    "    print(\"The number is an odd number\")\n"
   ]
  }
 ],
 "metadata": {
  "kernelspec": {
   "display_name": "Python [conda env:base] *",
   "language": "python",
   "name": "conda-base-py"
  },
  "language_info": {
   "codemirror_mode": {
    "name": "ipython",
    "version": 3
   },
   "file_extension": ".py",
   "mimetype": "text/x-python",
   "name": "python",
   "nbconvert_exporter": "python",
   "pygments_lexer": "ipython3",
   "version": "3.12.7"
  }
 },
 "nbformat": 4,
 "nbformat_minor": 5
}
