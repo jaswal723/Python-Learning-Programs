{
 "cells": [
  {
   "cell_type": "markdown",
   "id": "7bdf74c9-f670-4487-b441-bc2a1f129df7",
   "metadata": {},
   "source": [
    "# Boolean and Comparision Operators"
   ]
  },
  {
   "cell_type": "code",
   "execution_count": 2,
   "id": "21135772-0b17-4f04-a429-004ba015ff86",
   "metadata": {},
   "outputs": [
    {
     "name": "stdout",
     "output_type": "stream",
     "text": [
      "True\n",
      "False\n",
      "False\n"
     ]
    }
   ],
   "source": [
    "a=True\n",
    "b=True\n",
    "c=False\n",
    "print(a and b)\n",
    "print(a and c)\n",
    "print(c and a)"
   ]
  },
  {
   "cell_type": "code",
   "execution_count": 3,
   "id": "d622f50f-a7e6-46df-b529-9aeb3959e8cc",
   "metadata": {},
   "outputs": [
    {
     "name": "stdout",
     "output_type": "stream",
     "text": [
      "True\n",
      "True\n",
      "True\n"
     ]
    }
   ],
   "source": [
    "print(a or b)\n",
    "print(a or c)\n",
    "print(c or b)"
   ]
  },
  {
   "cell_type": "code",
   "execution_count": 4,
   "id": "60e5c454-bff5-4bf3-ba92-a2e3451e14fd",
   "metadata": {},
   "outputs": [
    {
     "name": "stdout",
     "output_type": "stream",
     "text": [
      "False\n"
     ]
    }
   ],
   "source": [
    "print(not(a))"
   ]
  },
  {
   "cell_type": "code",
   "execution_count": 5,
   "id": "d4b22526-6868-4378-b09c-d459f4815c2e",
   "metadata": {},
   "outputs": [
    {
     "name": "stdout",
     "output_type": "stream",
     "text": [
      "True\n",
      "False\n",
      "True\n"
     ]
    }
   ],
   "source": [
    "a=4\n",
    "b=5\n",
    "c=4\n",
    "print(a<b)\n",
    "print(b<c)\n",
    "print(a<=c)"
   ]
  },
  {
   "cell_type": "code",
   "execution_count": 6,
   "id": "0dea8571-88ca-4041-a8ed-60947c6c587b",
   "metadata": {},
   "outputs": [
    {
     "name": "stdout",
     "output_type": "stream",
     "text": [
      "True\n"
     ]
    }
   ],
   "source": [
    "print(3==3.0)"
   ]
  }
 ],
 "metadata": {
  "kernelspec": {
   "display_name": "Python [conda env:base] *",
   "language": "python",
   "name": "conda-base-py"
  },
  "language_info": {
   "codemirror_mode": {
    "name": "ipython",
    "version": 3
   },
   "file_extension": ".py",
   "mimetype": "text/x-python",
   "name": "python",
   "nbconvert_exporter": "python",
   "pygments_lexer": "ipython3",
   "version": "3.12.7"
  }
 },
 "nbformat": 4,
 "nbformat_minor": 5
}
