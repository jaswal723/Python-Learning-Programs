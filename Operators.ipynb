{
 "cells": [
  {
   "cell_type": "markdown",
   "id": "7414c24d-f666-45d9-94e5-f120e2e92cbc",
   "metadata": {},
   "source": [
    "# Operators"
   ]
  },
  {
   "cell_type": "code",
   "execution_count": 3,
   "id": "8e41e4a4-6b10-4f91-a9c5-bcde5047f386",
   "metadata": {},
   "outputs": [
    {
     "name": "stdout",
     "output_type": "stream",
     "text": [
      "11\n"
     ]
    },
    {
     "data": {
      "text/plain": [
       "int"
      ]
     },
     "execution_count": 3,
     "metadata": {},
     "output_type": "execute_result"
    }
   ],
   "source": [
    "a=4\n",
    "b=7\n",
    "sum_ab=a+b\n",
    "print(sum_ab)\n",
    "type(sum_ab)"
   ]
  },
  {
   "cell_type": "code",
   "execution_count": 4,
   "id": "698ea3f4-3467-4b27-839d-b2e6a2322f28",
   "metadata": {},
   "outputs": [
    {
     "name": "stdout",
     "output_type": "stream",
     "text": [
      "8.5\n"
     ]
    },
    {
     "data": {
      "text/plain": [
       "float"
      ]
     },
     "execution_count": 4,
     "metadata": {},
     "output_type": "execute_result"
    }
   ],
   "source": [
    "a=4\n",
    "b=4.5\n",
    "sum_ab=a+b\n",
    "print(sum_ab)\n",
    "type(sum_ab)"
   ]
  },
  {
   "cell_type": "code",
   "execution_count": 5,
   "id": "7bdeb14a-4565-4db3-8e75-7338014b91a9",
   "metadata": {},
   "outputs": [
    {
     "name": "stdout",
     "output_type": "stream",
     "text": [
      "hello world\n"
     ]
    }
   ],
   "source": [
    "s1=\"hello\"\n",
    "s2=\"world\"\n",
    "s=s1+\" \"+s2\n",
    "print(s)"
   ]
  },
  {
   "cell_type": "code",
   "execution_count": 6,
   "id": "6710306c-5853-4c1b-b70e-4b527dbc8a3e",
   "metadata": {},
   "outputs": [
    {
     "name": "stdout",
     "output_type": "stream",
     "text": [
      "3.3333333333333335\n",
      "3\n"
     ]
    }
   ],
   "source": [
    "print(10/3)\n",
    "print(10//3)"
   ]
  },
  {
   "cell_type": "markdown",
   "id": "6cfbd4d4-8364-4b9d-b397-b28b7f16173a",
   "metadata": {},
   "source": [
    "_ contains the last result which was not saved in a variable"
   ]
  }
 ],
 "metadata": {
  "kernelspec": {
   "display_name": "Python [conda env:base] *",
   "language": "python",
   "name": "conda-base-py"
  },
  "language_info": {
   "codemirror_mode": {
    "name": "ipython",
    "version": 3
   },
   "file_extension": ".py",
   "mimetype": "text/x-python",
   "name": "python",
   "nbconvert_exporter": "python",
   "pygments_lexer": "ipython3",
   "version": "3.12.7"
  }
 },
 "nbformat": 4,
 "nbformat_minor": 5
}
