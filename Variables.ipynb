{
 "cells": [
  {
   "cell_type": "markdown",
   "id": "f85c4bc4-1c19-4006-ac31-3ffbfc381226",
   "metadata": {},
   "source": [
    "# Understaing Variables"
   ]
  },
  {
   "cell_type": "code",
   "execution_count": 6,
   "id": "6bd1fee5-2920-4233-8684-6f2bffea5c36",
   "metadata": {},
   "outputs": [
    {
     "name": "stdout",
     "output_type": "stream",
     "text": [
      "4\n",
      "<class 'int'>\n",
      "5.0\n",
      "<class 'float'>\n"
     ]
    }
   ],
   "source": [
    "a=4\n",
    "b=5.0\n",
    "print(a)\n",
    "print(type(a))\n",
    "print(b)\n",
    "print(type(b))"
   ]
  },
  {
   "cell_type": "code",
   "execution_count": 7,
   "id": "6b99101c-5d17-461e-8646-e2a816a5d8e7",
   "metadata": {},
   "outputs": [
    {
     "name": "stdout",
     "output_type": "stream",
     "text": [
      "Variable               Type        Data/Info\n",
      "--------------------------------------------\n",
      "a                      int         4\n",
      "b                      float       5.0\n",
      "dataframe_columns      function    <function dataframe_columns at 0x14fde6e80>\n",
      "dataframe_hash         function    <function dataframe_hash at 0x14fde7740>\n",
      "dtypes_str             function    <function dtypes_str at 0x14fde7600>\n",
      "get_dataframes         function    <function get_dataframes at 0x14fde6c00>\n",
      "getpass                module      <module 'getpass' from '/<...>b/python3.12/getpass.py'>\n",
      "hashlib                module      <module 'hashlib' from '/<...>b/python3.12/hashlib.py'>\n",
      "import_pandas_safely   function    <function import_pandas_safely at 0x14fde7240>\n",
      "is_data_frame          function    <function is_data_frame at 0x14fde72e0>\n",
      "json                   module      <module 'json' from '/opt<...>on3.12/json/__init__.py'>\n"
     ]
    }
   ],
   "source": [
    "%whos"
   ]
  },
  {
   "cell_type": "code",
   "execution_count": 9,
   "id": "dac34486-d766-46e2-8710-682ce22ea27b",
   "metadata": {},
   "outputs": [
    {
     "ename": "NameError",
     "evalue": "name 'a' is not defined",
     "output_type": "error",
     "traceback": [
      "\u001b[0;31m---------------------------------------------------------------------------\u001b[0m",
      "\u001b[0;31mNameError\u001b[0m                                 Traceback (most recent call last)",
      "Cell \u001b[0;32mIn[9], line 1\u001b[0m\n\u001b[0;32m----> 1\u001b[0m \u001b[38;5;28;01mdel\u001b[39;00m a\n\u001b[1;32m      2\u001b[0m \u001b[38;5;28mprint\u001b[39m(a)\n",
      "\u001b[0;31mNameError\u001b[0m: name 'a' is not defined"
     ]
    }
   ],
   "source": [
    "del a\n",
    "print(a)"
   ]
  },
  {
   "cell_type": "code",
   "execution_count": 10,
   "id": "be771a35-654b-47cb-9eed-0be5770ef252",
   "metadata": {},
   "outputs": [],
   "source": [
    "a = 4"
   ]
  },
  {
   "cell_type": "code",
   "execution_count": 16,
   "id": "df6f25e0-bc02-40c9-b506-f6280ee426a4",
   "metadata": {},
   "outputs": [
    {
     "name": "stdout",
     "output_type": "stream",
     "text": [
      "<class 'complex'>\n"
     ]
    }
   ],
   "source": [
    "c= 2+4j\n",
    "print(type(c))"
   ]
  },
  {
   "cell_type": "code",
   "execution_count": 18,
   "id": "ea5db8ed-9173-42a0-b3e6-fc3cb66f2354",
   "metadata": {},
   "outputs": [
    {
     "name": "stdout",
     "output_type": "stream",
     "text": [
      "<class 'str'>\n",
      "<class 'str'>\n"
     ]
    }
   ],
   "source": [
    "s=\"hello\"\n",
    "str=\"12\"\n",
    "print(type(s))\n",
    "print(type(str))"
   ]
  }
 ],
 "metadata": {
  "kernelspec": {
   "display_name": "Python [conda env:base] *",
   "language": "python",
   "name": "conda-base-py"
  },
  "language_info": {
   "codemirror_mode": {
    "name": "ipython",
    "version": 3
   },
   "file_extension": ".py",
   "mimetype": "text/x-python",
   "name": "python",
   "nbconvert_exporter": "python",
   "pygments_lexer": "ipython3",
   "version": "3.12.7"
  }
 },
 "nbformat": 4,
 "nbformat_minor": 5
}
